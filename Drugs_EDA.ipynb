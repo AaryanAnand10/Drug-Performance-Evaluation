{
  "nbformat": 4,
  "nbformat_minor": 0,
  "metadata": {
    "colab": {
      "provenance": [],
      "authorship_tag": "ABX9TyN0tVekwmIXRIGPkyvEHGbW",
      "include_colab_link": true
    },
    "kernelspec": {
      "name": "python3",
      "display_name": "Python 3"
    },
    "language_info": {
      "name": "python"
    }
  },
  "cells": [
    {
      "cell_type": "markdown",
      "metadata": {
        "id": "view-in-github",
        "colab_type": "text"
      },
      "source": [
        "<a href=\"https://colab.research.google.com/github/AaryanAnand10/Drug-Performance-Evaluation/blob/main/Drugs_EDA.ipynb\" target=\"_parent\"><img src=\"https://colab.research.google.com/assets/colab-badge.svg\" alt=\"Open In Colab\"/></a>"
      ]
    },
    {
      "cell_type": "code",
      "execution_count": 1,
      "metadata": {
        "id": "85oGtDQ_9rJb"
      },
      "outputs": [],
      "source": [
        "import pandas as pd\n",
        "import numpy as np\n",
        "import seaborn as sns\n",
        "import matplotlib.pyplot as plt"
      ]
    },
    {
      "cell_type": "code",
      "source": [
        "df = pd.read_csv('/content/Drug.csv')"
      ],
      "metadata": {
        "id": "RA6Tvi86-AZ1"
      },
      "execution_count": 2,
      "outputs": []
    },
    {
      "cell_type": "code",
      "source": [
        "df.head(5)"
      ],
      "metadata": {
        "colab": {
          "base_uri": "https://localhost:8080/",
          "height": 206
        },
        "id": "b57rcGCF-AkM",
        "outputId": "2e7ed422-c270-43b2-ebb2-0229e04711b1"
      },
      "execution_count": 3,
      "outputs": [
        {
          "output_type": "execute_result",
          "data": {
            "text/plain": [
              "                   Condition          Drug Indication Type      Reviews  \\\n",
              "0  Acute Bacterial Sinusitis  Levofloxacin   On Label   RX  994 Reviews   \n",
              "1  Acute Bacterial Sinusitis  Levofloxacin   On Label   RX  994 Reviews   \n",
              "2  Acute Bacterial Sinusitis  Moxifloxacin   On Label   RX  755 Reviews   \n",
              "3  Acute Bacterial Sinusitis  Azithromycin   On Label   RX  584 Reviews   \n",
              "4  Acute Bacterial Sinusitis  Azithromycin   On Label   RX  584 Reviews   \n",
              "\n",
              "   Effective  EaseOfUse  Satisfaction  \\\n",
              "0       2.52       3.01          1.84   \n",
              "1       2.52       3.01          1.84   \n",
              "2       2.78       3.00          2.08   \n",
              "3       3.21       4.01          2.57   \n",
              "4       3.21       4.01          2.57   \n",
              "\n",
              "                                         Information  \n",
              "0  \\r\\n\\t\\t\\t\\t\\tLevofloxacin is used to treat a ...  \n",
              "1  \\r\\n\\t\\t\\t\\t\\tLevofloxacin is used to treat a ...  \n",
              "2  \\r\\n\\t\\t\\t\\t\\t This is a generic drug. The ave...  \n",
              "3  \\r\\n\\t\\t\\t\\t\\tAzithromycin is an antibiotic (m...  \n",
              "4  \\r\\n\\t\\t\\t\\t\\tAzithromycin is an antibiotic (m...  "
            ],
            "text/html": [
              "\n",
              "  <div id=\"df-d0f8710c-621e-4d84-a521-b9fae7288513\" class=\"colab-df-container\">\n",
              "    <div>\n",
              "<style scoped>\n",
              "    .dataframe tbody tr th:only-of-type {\n",
              "        vertical-align: middle;\n",
              "    }\n",
              "\n",
              "    .dataframe tbody tr th {\n",
              "        vertical-align: top;\n",
              "    }\n",
              "\n",
              "    .dataframe thead th {\n",
              "        text-align: right;\n",
              "    }\n",
              "</style>\n",
              "<table border=\"1\" class=\"dataframe\">\n",
              "  <thead>\n",
              "    <tr style=\"text-align: right;\">\n",
              "      <th></th>\n",
              "      <th>Condition</th>\n",
              "      <th>Drug</th>\n",
              "      <th>Indication</th>\n",
              "      <th>Type</th>\n",
              "      <th>Reviews</th>\n",
              "      <th>Effective</th>\n",
              "      <th>EaseOfUse</th>\n",
              "      <th>Satisfaction</th>\n",
              "      <th>Information</th>\n",
              "    </tr>\n",
              "  </thead>\n",
              "  <tbody>\n",
              "    <tr>\n",
              "      <th>0</th>\n",
              "      <td>Acute Bacterial Sinusitis</td>\n",
              "      <td>Levofloxacin</td>\n",
              "      <td>On Label</td>\n",
              "      <td>RX</td>\n",
              "      <td>994 Reviews</td>\n",
              "      <td>2.52</td>\n",
              "      <td>3.01</td>\n",
              "      <td>1.84</td>\n",
              "      <td>\\r\\n\\t\\t\\t\\t\\tLevofloxacin is used to treat a ...</td>\n",
              "    </tr>\n",
              "    <tr>\n",
              "      <th>1</th>\n",
              "      <td>Acute Bacterial Sinusitis</td>\n",
              "      <td>Levofloxacin</td>\n",
              "      <td>On Label</td>\n",
              "      <td>RX</td>\n",
              "      <td>994 Reviews</td>\n",
              "      <td>2.52</td>\n",
              "      <td>3.01</td>\n",
              "      <td>1.84</td>\n",
              "      <td>\\r\\n\\t\\t\\t\\t\\tLevofloxacin is used to treat a ...</td>\n",
              "    </tr>\n",
              "    <tr>\n",
              "      <th>2</th>\n",
              "      <td>Acute Bacterial Sinusitis</td>\n",
              "      <td>Moxifloxacin</td>\n",
              "      <td>On Label</td>\n",
              "      <td>RX</td>\n",
              "      <td>755 Reviews</td>\n",
              "      <td>2.78</td>\n",
              "      <td>3.00</td>\n",
              "      <td>2.08</td>\n",
              "      <td>\\r\\n\\t\\t\\t\\t\\t This is a generic drug. The ave...</td>\n",
              "    </tr>\n",
              "    <tr>\n",
              "      <th>3</th>\n",
              "      <td>Acute Bacterial Sinusitis</td>\n",
              "      <td>Azithromycin</td>\n",
              "      <td>On Label</td>\n",
              "      <td>RX</td>\n",
              "      <td>584 Reviews</td>\n",
              "      <td>3.21</td>\n",
              "      <td>4.01</td>\n",
              "      <td>2.57</td>\n",
              "      <td>\\r\\n\\t\\t\\t\\t\\tAzithromycin is an antibiotic (m...</td>\n",
              "    </tr>\n",
              "    <tr>\n",
              "      <th>4</th>\n",
              "      <td>Acute Bacterial Sinusitis</td>\n",
              "      <td>Azithromycin</td>\n",
              "      <td>On Label</td>\n",
              "      <td>RX</td>\n",
              "      <td>584 Reviews</td>\n",
              "      <td>3.21</td>\n",
              "      <td>4.01</td>\n",
              "      <td>2.57</td>\n",
              "      <td>\\r\\n\\t\\t\\t\\t\\tAzithromycin is an antibiotic (m...</td>\n",
              "    </tr>\n",
              "  </tbody>\n",
              "</table>\n",
              "</div>\n",
              "    <div class=\"colab-df-buttons\">\n",
              "\n",
              "  <div class=\"colab-df-container\">\n",
              "    <button class=\"colab-df-convert\" onclick=\"convertToInteractive('df-d0f8710c-621e-4d84-a521-b9fae7288513')\"\n",
              "            title=\"Convert this dataframe to an interactive table.\"\n",
              "            style=\"display:none;\">\n",
              "\n",
              "  <svg xmlns=\"http://www.w3.org/2000/svg\" height=\"24px\" viewBox=\"0 -960 960 960\">\n",
              "    <path d=\"M120-120v-720h720v720H120Zm60-500h600v-160H180v160Zm220 220h160v-160H400v160Zm0 220h160v-160H400v160ZM180-400h160v-160H180v160Zm440 0h160v-160H620v160ZM180-180h160v-160H180v160Zm440 0h160v-160H620v160Z\"/>\n",
              "  </svg>\n",
              "    </button>\n",
              "\n",
              "  <style>\n",
              "    .colab-df-container {\n",
              "      display:flex;\n",
              "      gap: 12px;\n",
              "    }\n",
              "\n",
              "    .colab-df-convert {\n",
              "      background-color: #E8F0FE;\n",
              "      border: none;\n",
              "      border-radius: 50%;\n",
              "      cursor: pointer;\n",
              "      display: none;\n",
              "      fill: #1967D2;\n",
              "      height: 32px;\n",
              "      padding: 0 0 0 0;\n",
              "      width: 32px;\n",
              "    }\n",
              "\n",
              "    .colab-df-convert:hover {\n",
              "      background-color: #E2EBFA;\n",
              "      box-shadow: 0px 1px 2px rgba(60, 64, 67, 0.3), 0px 1px 3px 1px rgba(60, 64, 67, 0.15);\n",
              "      fill: #174EA6;\n",
              "    }\n",
              "\n",
              "    .colab-df-buttons div {\n",
              "      margin-bottom: 4px;\n",
              "    }\n",
              "\n",
              "    [theme=dark] .colab-df-convert {\n",
              "      background-color: #3B4455;\n",
              "      fill: #D2E3FC;\n",
              "    }\n",
              "\n",
              "    [theme=dark] .colab-df-convert:hover {\n",
              "      background-color: #434B5C;\n",
              "      box-shadow: 0px 1px 3px 1px rgba(0, 0, 0, 0.15);\n",
              "      filter: drop-shadow(0px 1px 2px rgba(0, 0, 0, 0.3));\n",
              "      fill: #FFFFFF;\n",
              "    }\n",
              "  </style>\n",
              "\n",
              "    <script>\n",
              "      const buttonEl =\n",
              "        document.querySelector('#df-d0f8710c-621e-4d84-a521-b9fae7288513 button.colab-df-convert');\n",
              "      buttonEl.style.display =\n",
              "        google.colab.kernel.accessAllowed ? 'block' : 'none';\n",
              "\n",
              "      async function convertToInteractive(key) {\n",
              "        const element = document.querySelector('#df-d0f8710c-621e-4d84-a521-b9fae7288513');\n",
              "        const dataTable =\n",
              "          await google.colab.kernel.invokeFunction('convertToInteractive',\n",
              "                                                    [key], {});\n",
              "        if (!dataTable) return;\n",
              "\n",
              "        const docLinkHtml = 'Like what you see? Visit the ' +\n",
              "          '<a target=\"_blank\" href=https://colab.research.google.com/notebooks/data_table.ipynb>data table notebook</a>'\n",
              "          + ' to learn more about interactive tables.';\n",
              "        element.innerHTML = '';\n",
              "        dataTable['output_type'] = 'display_data';\n",
              "        await google.colab.output.renderOutput(dataTable, element);\n",
              "        const docLink = document.createElement('div');\n",
              "        docLink.innerHTML = docLinkHtml;\n",
              "        element.appendChild(docLink);\n",
              "      }\n",
              "    </script>\n",
              "  </div>\n",
              "\n",
              "\n",
              "<div id=\"df-1a8c6812-19d9-4a67-8bfd-835eaae7029c\">\n",
              "  <button class=\"colab-df-quickchart\" onclick=\"quickchart('df-1a8c6812-19d9-4a67-8bfd-835eaae7029c')\"\n",
              "            title=\"Suggest charts\"\n",
              "            style=\"display:none;\">\n",
              "\n",
              "<svg xmlns=\"http://www.w3.org/2000/svg\" height=\"24px\"viewBox=\"0 0 24 24\"\n",
              "     width=\"24px\">\n",
              "    <g>\n",
              "        <path d=\"M19 3H5c-1.1 0-2 .9-2 2v14c0 1.1.9 2 2 2h14c1.1 0 2-.9 2-2V5c0-1.1-.9-2-2-2zM9 17H7v-7h2v7zm4 0h-2V7h2v10zm4 0h-2v-4h2v4z\"/>\n",
              "    </g>\n",
              "</svg>\n",
              "  </button>\n",
              "\n",
              "<style>\n",
              "  .colab-df-quickchart {\n",
              "      --bg-color: #E8F0FE;\n",
              "      --fill-color: #1967D2;\n",
              "      --hover-bg-color: #E2EBFA;\n",
              "      --hover-fill-color: #174EA6;\n",
              "      --disabled-fill-color: #AAA;\n",
              "      --disabled-bg-color: #DDD;\n",
              "  }\n",
              "\n",
              "  [theme=dark] .colab-df-quickchart {\n",
              "      --bg-color: #3B4455;\n",
              "      --fill-color: #D2E3FC;\n",
              "      --hover-bg-color: #434B5C;\n",
              "      --hover-fill-color: #FFFFFF;\n",
              "      --disabled-bg-color: #3B4455;\n",
              "      --disabled-fill-color: #666;\n",
              "  }\n",
              "\n",
              "  .colab-df-quickchart {\n",
              "    background-color: var(--bg-color);\n",
              "    border: none;\n",
              "    border-radius: 50%;\n",
              "    cursor: pointer;\n",
              "    display: none;\n",
              "    fill: var(--fill-color);\n",
              "    height: 32px;\n",
              "    padding: 0;\n",
              "    width: 32px;\n",
              "  }\n",
              "\n",
              "  .colab-df-quickchart:hover {\n",
              "    background-color: var(--hover-bg-color);\n",
              "    box-shadow: 0 1px 2px rgba(60, 64, 67, 0.3), 0 1px 3px 1px rgba(60, 64, 67, 0.15);\n",
              "    fill: var(--button-hover-fill-color);\n",
              "  }\n",
              "\n",
              "  .colab-df-quickchart-complete:disabled,\n",
              "  .colab-df-quickchart-complete:disabled:hover {\n",
              "    background-color: var(--disabled-bg-color);\n",
              "    fill: var(--disabled-fill-color);\n",
              "    box-shadow: none;\n",
              "  }\n",
              "\n",
              "  .colab-df-spinner {\n",
              "    border: 2px solid var(--fill-color);\n",
              "    border-color: transparent;\n",
              "    border-bottom-color: var(--fill-color);\n",
              "    animation:\n",
              "      spin 1s steps(1) infinite;\n",
              "  }\n",
              "\n",
              "  @keyframes spin {\n",
              "    0% {\n",
              "      border-color: transparent;\n",
              "      border-bottom-color: var(--fill-color);\n",
              "      border-left-color: var(--fill-color);\n",
              "    }\n",
              "    20% {\n",
              "      border-color: transparent;\n",
              "      border-left-color: var(--fill-color);\n",
              "      border-top-color: var(--fill-color);\n",
              "    }\n",
              "    30% {\n",
              "      border-color: transparent;\n",
              "      border-left-color: var(--fill-color);\n",
              "      border-top-color: var(--fill-color);\n",
              "      border-right-color: var(--fill-color);\n",
              "    }\n",
              "    40% {\n",
              "      border-color: transparent;\n",
              "      border-right-color: var(--fill-color);\n",
              "      border-top-color: var(--fill-color);\n",
              "    }\n",
              "    60% {\n",
              "      border-color: transparent;\n",
              "      border-right-color: var(--fill-color);\n",
              "    }\n",
              "    80% {\n",
              "      border-color: transparent;\n",
              "      border-right-color: var(--fill-color);\n",
              "      border-bottom-color: var(--fill-color);\n",
              "    }\n",
              "    90% {\n",
              "      border-color: transparent;\n",
              "      border-bottom-color: var(--fill-color);\n",
              "    }\n",
              "  }\n",
              "</style>\n",
              "\n",
              "  <script>\n",
              "    async function quickchart(key) {\n",
              "      const quickchartButtonEl =\n",
              "        document.querySelector('#' + key + ' button');\n",
              "      quickchartButtonEl.disabled = true;  // To prevent multiple clicks.\n",
              "      quickchartButtonEl.classList.add('colab-df-spinner');\n",
              "      try {\n",
              "        const charts = await google.colab.kernel.invokeFunction(\n",
              "            'suggestCharts', [key], {});\n",
              "      } catch (error) {\n",
              "        console.error('Error during call to suggestCharts:', error);\n",
              "      }\n",
              "      quickchartButtonEl.classList.remove('colab-df-spinner');\n",
              "      quickchartButtonEl.classList.add('colab-df-quickchart-complete');\n",
              "    }\n",
              "    (() => {\n",
              "      let quickchartButtonEl =\n",
              "        document.querySelector('#df-1a8c6812-19d9-4a67-8bfd-835eaae7029c button');\n",
              "      quickchartButtonEl.style.display =\n",
              "        google.colab.kernel.accessAllowed ? 'block' : 'none';\n",
              "    })();\n",
              "  </script>\n",
              "</div>\n",
              "\n",
              "    </div>\n",
              "  </div>\n"
            ]
          },
          "metadata": {},
          "execution_count": 3
        }
      ]
    },
    {
      "cell_type": "code",
      "source": [
        "df.isna().sum()"
      ],
      "metadata": {
        "colab": {
          "base_uri": "https://localhost:8080/"
        },
        "id": "EbAuLJSO-Anm",
        "outputId": "beecd9b1-9a66-4be6-c9fe-8e1849263187"
      },
      "execution_count": 4,
      "outputs": [
        {
          "output_type": "execute_result",
          "data": {
            "text/plain": [
              "Condition       0\n",
              "Drug            0\n",
              "Indication      0\n",
              "Type            0\n",
              "Reviews         0\n",
              "Effective       0\n",
              "EaseOfUse       0\n",
              "Satisfaction    0\n",
              "Information     0\n",
              "dtype: int64"
            ]
          },
          "metadata": {},
          "execution_count": 4
        }
      ]
    },
    {
      "cell_type": "code",
      "source": [
        "df.describe()"
      ],
      "metadata": {
        "colab": {
          "base_uri": "https://localhost:8080/",
          "height": 300
        },
        "id": "HXFgUTJK-VOL",
        "outputId": "67090f90-c9a2-4d45-8bcc-a8ab6dc3e090"
      },
      "execution_count": 5,
      "outputs": [
        {
          "output_type": "execute_result",
          "data": {
            "text/plain": [
              "         Effective    EaseOfUse  Satisfaction\n",
              "count  2219.000000  2219.000000   2219.000000\n",
              "mean      3.557972     3.958824      3.218774\n",
              "std       1.113128     1.037877      1.230933\n",
              "min       1.000000     1.000000      1.000000\n",
              "25%       3.000000     3.540000      2.400000\n",
              "50%       3.680000     4.100000      3.130000\n",
              "75%       4.330000     5.000000      4.000000\n",
              "max       5.000000     5.000000      5.000000"
            ],
            "text/html": [
              "\n",
              "  <div id=\"df-3505b8ee-6488-4da9-8f34-1a5c3565503f\" class=\"colab-df-container\">\n",
              "    <div>\n",
              "<style scoped>\n",
              "    .dataframe tbody tr th:only-of-type {\n",
              "        vertical-align: middle;\n",
              "    }\n",
              "\n",
              "    .dataframe tbody tr th {\n",
              "        vertical-align: top;\n",
              "    }\n",
              "\n",
              "    .dataframe thead th {\n",
              "        text-align: right;\n",
              "    }\n",
              "</style>\n",
              "<table border=\"1\" class=\"dataframe\">\n",
              "  <thead>\n",
              "    <tr style=\"text-align: right;\">\n",
              "      <th></th>\n",
              "      <th>Effective</th>\n",
              "      <th>EaseOfUse</th>\n",
              "      <th>Satisfaction</th>\n",
              "    </tr>\n",
              "  </thead>\n",
              "  <tbody>\n",
              "    <tr>\n",
              "      <th>count</th>\n",
              "      <td>2219.000000</td>\n",
              "      <td>2219.000000</td>\n",
              "      <td>2219.000000</td>\n",
              "    </tr>\n",
              "    <tr>\n",
              "      <th>mean</th>\n",
              "      <td>3.557972</td>\n",
              "      <td>3.958824</td>\n",
              "      <td>3.218774</td>\n",
              "    </tr>\n",
              "    <tr>\n",
              "      <th>std</th>\n",
              "      <td>1.113128</td>\n",
              "      <td>1.037877</td>\n",
              "      <td>1.230933</td>\n",
              "    </tr>\n",
              "    <tr>\n",
              "      <th>min</th>\n",
              "      <td>1.000000</td>\n",
              "      <td>1.000000</td>\n",
              "      <td>1.000000</td>\n",
              "    </tr>\n",
              "    <tr>\n",
              "      <th>25%</th>\n",
              "      <td>3.000000</td>\n",
              "      <td>3.540000</td>\n",
              "      <td>2.400000</td>\n",
              "    </tr>\n",
              "    <tr>\n",
              "      <th>50%</th>\n",
              "      <td>3.680000</td>\n",
              "      <td>4.100000</td>\n",
              "      <td>3.130000</td>\n",
              "    </tr>\n",
              "    <tr>\n",
              "      <th>75%</th>\n",
              "      <td>4.330000</td>\n",
              "      <td>5.000000</td>\n",
              "      <td>4.000000</td>\n",
              "    </tr>\n",
              "    <tr>\n",
              "      <th>max</th>\n",
              "      <td>5.000000</td>\n",
              "      <td>5.000000</td>\n",
              "      <td>5.000000</td>\n",
              "    </tr>\n",
              "  </tbody>\n",
              "</table>\n",
              "</div>\n",
              "    <div class=\"colab-df-buttons\">\n",
              "\n",
              "  <div class=\"colab-df-container\">\n",
              "    <button class=\"colab-df-convert\" onclick=\"convertToInteractive('df-3505b8ee-6488-4da9-8f34-1a5c3565503f')\"\n",
              "            title=\"Convert this dataframe to an interactive table.\"\n",
              "            style=\"display:none;\">\n",
              "\n",
              "  <svg xmlns=\"http://www.w3.org/2000/svg\" height=\"24px\" viewBox=\"0 -960 960 960\">\n",
              "    <path d=\"M120-120v-720h720v720H120Zm60-500h600v-160H180v160Zm220 220h160v-160H400v160Zm0 220h160v-160H400v160ZM180-400h160v-160H180v160Zm440 0h160v-160H620v160ZM180-180h160v-160H180v160Zm440 0h160v-160H620v160Z\"/>\n",
              "  </svg>\n",
              "    </button>\n",
              "\n",
              "  <style>\n",
              "    .colab-df-container {\n",
              "      display:flex;\n",
              "      gap: 12px;\n",
              "    }\n",
              "\n",
              "    .colab-df-convert {\n",
              "      background-color: #E8F0FE;\n",
              "      border: none;\n",
              "      border-radius: 50%;\n",
              "      cursor: pointer;\n",
              "      display: none;\n",
              "      fill: #1967D2;\n",
              "      height: 32px;\n",
              "      padding: 0 0 0 0;\n",
              "      width: 32px;\n",
              "    }\n",
              "\n",
              "    .colab-df-convert:hover {\n",
              "      background-color: #E2EBFA;\n",
              "      box-shadow: 0px 1px 2px rgba(60, 64, 67, 0.3), 0px 1px 3px 1px rgba(60, 64, 67, 0.15);\n",
              "      fill: #174EA6;\n",
              "    }\n",
              "\n",
              "    .colab-df-buttons div {\n",
              "      margin-bottom: 4px;\n",
              "    }\n",
              "\n",
              "    [theme=dark] .colab-df-convert {\n",
              "      background-color: #3B4455;\n",
              "      fill: #D2E3FC;\n",
              "    }\n",
              "\n",
              "    [theme=dark] .colab-df-convert:hover {\n",
              "      background-color: #434B5C;\n",
              "      box-shadow: 0px 1px 3px 1px rgba(0, 0, 0, 0.15);\n",
              "      filter: drop-shadow(0px 1px 2px rgba(0, 0, 0, 0.3));\n",
              "      fill: #FFFFFF;\n",
              "    }\n",
              "  </style>\n",
              "\n",
              "    <script>\n",
              "      const buttonEl =\n",
              "        document.querySelector('#df-3505b8ee-6488-4da9-8f34-1a5c3565503f button.colab-df-convert');\n",
              "      buttonEl.style.display =\n",
              "        google.colab.kernel.accessAllowed ? 'block' : 'none';\n",
              "\n",
              "      async function convertToInteractive(key) {\n",
              "        const element = document.querySelector('#df-3505b8ee-6488-4da9-8f34-1a5c3565503f');\n",
              "        const dataTable =\n",
              "          await google.colab.kernel.invokeFunction('convertToInteractive',\n",
              "                                                    [key], {});\n",
              "        if (!dataTable) return;\n",
              "\n",
              "        const docLinkHtml = 'Like what you see? Visit the ' +\n",
              "          '<a target=\"_blank\" href=https://colab.research.google.com/notebooks/data_table.ipynb>data table notebook</a>'\n",
              "          + ' to learn more about interactive tables.';\n",
              "        element.innerHTML = '';\n",
              "        dataTable['output_type'] = 'display_data';\n",
              "        await google.colab.output.renderOutput(dataTable, element);\n",
              "        const docLink = document.createElement('div');\n",
              "        docLink.innerHTML = docLinkHtml;\n",
              "        element.appendChild(docLink);\n",
              "      }\n",
              "    </script>\n",
              "  </div>\n",
              "\n",
              "\n",
              "<div id=\"df-36f51c8d-8a10-4cb5-97ce-d7c0f9a71396\">\n",
              "  <button class=\"colab-df-quickchart\" onclick=\"quickchart('df-36f51c8d-8a10-4cb5-97ce-d7c0f9a71396')\"\n",
              "            title=\"Suggest charts\"\n",
              "            style=\"display:none;\">\n",
              "\n",
              "<svg xmlns=\"http://www.w3.org/2000/svg\" height=\"24px\"viewBox=\"0 0 24 24\"\n",
              "     width=\"24px\">\n",
              "    <g>\n",
              "        <path d=\"M19 3H5c-1.1 0-2 .9-2 2v14c0 1.1.9 2 2 2h14c1.1 0 2-.9 2-2V5c0-1.1-.9-2-2-2zM9 17H7v-7h2v7zm4 0h-2V7h2v10zm4 0h-2v-4h2v4z\"/>\n",
              "    </g>\n",
              "</svg>\n",
              "  </button>\n",
              "\n",
              "<style>\n",
              "  .colab-df-quickchart {\n",
              "      --bg-color: #E8F0FE;\n",
              "      --fill-color: #1967D2;\n",
              "      --hover-bg-color: #E2EBFA;\n",
              "      --hover-fill-color: #174EA6;\n",
              "      --disabled-fill-color: #AAA;\n",
              "      --disabled-bg-color: #DDD;\n",
              "  }\n",
              "\n",
              "  [theme=dark] .colab-df-quickchart {\n",
              "      --bg-color: #3B4455;\n",
              "      --fill-color: #D2E3FC;\n",
              "      --hover-bg-color: #434B5C;\n",
              "      --hover-fill-color: #FFFFFF;\n",
              "      --disabled-bg-color: #3B4455;\n",
              "      --disabled-fill-color: #666;\n",
              "  }\n",
              "\n",
              "  .colab-df-quickchart {\n",
              "    background-color: var(--bg-color);\n",
              "    border: none;\n",
              "    border-radius: 50%;\n",
              "    cursor: pointer;\n",
              "    display: none;\n",
              "    fill: var(--fill-color);\n",
              "    height: 32px;\n",
              "    padding: 0;\n",
              "    width: 32px;\n",
              "  }\n",
              "\n",
              "  .colab-df-quickchart:hover {\n",
              "    background-color: var(--hover-bg-color);\n",
              "    box-shadow: 0 1px 2px rgba(60, 64, 67, 0.3), 0 1px 3px 1px rgba(60, 64, 67, 0.15);\n",
              "    fill: var(--button-hover-fill-color);\n",
              "  }\n",
              "\n",
              "  .colab-df-quickchart-complete:disabled,\n",
              "  .colab-df-quickchart-complete:disabled:hover {\n",
              "    background-color: var(--disabled-bg-color);\n",
              "    fill: var(--disabled-fill-color);\n",
              "    box-shadow: none;\n",
              "  }\n",
              "\n",
              "  .colab-df-spinner {\n",
              "    border: 2px solid var(--fill-color);\n",
              "    border-color: transparent;\n",
              "    border-bottom-color: var(--fill-color);\n",
              "    animation:\n",
              "      spin 1s steps(1) infinite;\n",
              "  }\n",
              "\n",
              "  @keyframes spin {\n",
              "    0% {\n",
              "      border-color: transparent;\n",
              "      border-bottom-color: var(--fill-color);\n",
              "      border-left-color: var(--fill-color);\n",
              "    }\n",
              "    20% {\n",
              "      border-color: transparent;\n",
              "      border-left-color: var(--fill-color);\n",
              "      border-top-color: var(--fill-color);\n",
              "    }\n",
              "    30% {\n",
              "      border-color: transparent;\n",
              "      border-left-color: var(--fill-color);\n",
              "      border-top-color: var(--fill-color);\n",
              "      border-right-color: var(--fill-color);\n",
              "    }\n",
              "    40% {\n",
              "      border-color: transparent;\n",
              "      border-right-color: var(--fill-color);\n",
              "      border-top-color: var(--fill-color);\n",
              "    }\n",
              "    60% {\n",
              "      border-color: transparent;\n",
              "      border-right-color: var(--fill-color);\n",
              "    }\n",
              "    80% {\n",
              "      border-color: transparent;\n",
              "      border-right-color: var(--fill-color);\n",
              "      border-bottom-color: var(--fill-color);\n",
              "    }\n",
              "    90% {\n",
              "      border-color: transparent;\n",
              "      border-bottom-color: var(--fill-color);\n",
              "    }\n",
              "  }\n",
              "</style>\n",
              "\n",
              "  <script>\n",
              "    async function quickchart(key) {\n",
              "      const quickchartButtonEl =\n",
              "        document.querySelector('#' + key + ' button');\n",
              "      quickchartButtonEl.disabled = true;  // To prevent multiple clicks.\n",
              "      quickchartButtonEl.classList.add('colab-df-spinner');\n",
              "      try {\n",
              "        const charts = await google.colab.kernel.invokeFunction(\n",
              "            'suggestCharts', [key], {});\n",
              "      } catch (error) {\n",
              "        console.error('Error during call to suggestCharts:', error);\n",
              "      }\n",
              "      quickchartButtonEl.classList.remove('colab-df-spinner');\n",
              "      quickchartButtonEl.classList.add('colab-df-quickchart-complete');\n",
              "    }\n",
              "    (() => {\n",
              "      let quickchartButtonEl =\n",
              "        document.querySelector('#df-36f51c8d-8a10-4cb5-97ce-d7c0f9a71396 button');\n",
              "      quickchartButtonEl.style.display =\n",
              "        google.colab.kernel.accessAllowed ? 'block' : 'none';\n",
              "    })();\n",
              "  </script>\n",
              "</div>\n",
              "\n",
              "    </div>\n",
              "  </div>\n"
            ]
          },
          "metadata": {},
          "execution_count": 5
        }
      ]
    },
    {
      "cell_type": "code",
      "source": [
        "df['Drug'].value_counts()"
      ],
      "metadata": {
        "colab": {
          "base_uri": "https://localhost:8080/"
        },
        "id": "Ps0Nl1fO-kuy",
        "outputId": "3775b6b7-f302-42a1-87f7-b9dd84b17bd0"
      },
      "execution_count": 6,
      "outputs": [
        {
          "output_type": "execute_result",
          "data": {
            "text/plain": [
              "Acetaminophen                                             114\n",
              "Ibuprofen                                                  73\n",
              "Diphenhydramine Hcl                                        58\n",
              "Aspirin                                                    42\n",
              "Sulfamethoxazole-Trimethoprim                              40\n",
              "                                                         ... \n",
              "Pramoxine-Zinc Oxide                                        1\n",
              "Hydrocortisone Acetate, Bismuth Subg-Balsam-Znox-Resor      1\n",
              "Fluocinolone-Skin Clnsr28                                   1\n",
              "Starch, Pramoxine-Mineral Oil-Zinc                          1\n",
              "Zinc Oxide                                                  1\n",
              "Name: Drug, Length: 470, dtype: int64"
            ]
          },
          "metadata": {},
          "execution_count": 6
        }
      ]
    },
    {
      "cell_type": "code",
      "source": [
        "df['Condition'].value_counts()"
      ],
      "metadata": {
        "colab": {
          "base_uri": "https://localhost:8080/"
        },
        "id": "y2LOBhls-kxI",
        "outputId": "150dc1cd-e118-4d74-e12f-e6e8d56c6229"
      },
      "execution_count": 7,
      "outputs": [
        {
          "output_type": "execute_result",
          "data": {
            "text/plain": [
              "fever                                        308\n",
              "hypertension                                 236\n",
              "Atopic Dermatitis                            209\n",
              "endometriosis                                163\n",
              "gastroesophageal reflux disease              131\n",
              "Bacterial Urinary Tract Infection            131\n",
              "back pain                                    123\n",
              "gout                                         110\n",
              "Pharyngitis due to Streptococcus Pyogenes     83\n",
              "vertigo                                       81\n",
              "flatulence                                    76\n",
              "Acute Bacterial Sinusitis                     65\n",
              "hypercholesterolemia                          59\n",
              "hemorrhoids                                   53\n",
              "diverticulitis of gastrointestinal tract      48\n",
              "Bacterial Conjunctivitis                      42\n",
              "edema                                         41\n",
              "prevention of cerebrovascular accident        38\n",
              "depression                                    32\n",
              "vulvovaginal candidiasis                      29\n",
              "fibromyalgia                                  27\n",
              "sore throat                                   23\n",
              "adenocarcinoma of pancreas                    15\n",
              "oral candidiasis                              13\n",
              "genital herpes simplex                        11\n",
              "impetigo                                      10\n",
              "Infantile Autism                              10\n",
              "pyelonephritis                                 9\n",
              "scabies                                        7\n",
              "furunculosis                                   7\n",
              "meniere's disease                              6\n",
              "herpes zoster                                  6\n",
              "Influenza                                      4\n",
              "chickenpox                                     4\n",
              "Sleepiness Due To Obstructive Sleep Apnea      4\n",
              "biliary calculus                               4\n",
              "colorectal cancer                              1\n",
              "Name: Condition, dtype: int64"
            ]
          },
          "metadata": {},
          "execution_count": 7
        }
      ]
    },
    {
      "cell_type": "code",
      "source": [
        "df['Indication'].value_counts()"
      ],
      "metadata": {
        "id": "8WEONgkW-k0m",
        "colab": {
          "base_uri": "https://localhost:8080/"
        },
        "outputId": "e12029e9-8e81-46b1-ba34-8c921e647e8e"
      },
      "execution_count": 8,
      "outputs": [
        {
          "output_type": "execute_result",
          "data": {
            "text/plain": [
              "On Label     1723\n",
              "Off Label     465\n",
              "\\r\\n           31\n",
              "Name: Indication, dtype: int64"
            ]
          },
          "metadata": {},
          "execution_count": 8
        }
      ]
    },
    {
      "cell_type": "code",
      "source": [
        "df['Indication'] = df['Indication'].str.replace('\\r\\n', 'Unknown')\n",
        "\n",
        "df['Indication'].value_counts()"
      ],
      "metadata": {
        "id": "-y0zmV7O-k7r",
        "colab": {
          "base_uri": "https://localhost:8080/"
        },
        "outputId": "d693a534-d61d-4698-9f79-5aef0082fa98"
      },
      "execution_count": 9,
      "outputs": [
        {
          "output_type": "execute_result",
          "data": {
            "text/plain": [
              "On Label     1723\n",
              "Off Label     465\n",
              "Unknown        31\n",
              "Name: Indication, dtype: int64"
            ]
          },
          "metadata": {},
          "execution_count": 9
        }
      ]
    },
    {
      "cell_type": "code",
      "source": [
        "df['Type'].value_counts()"
      ],
      "metadata": {
        "id": "SHwJURN_-VZj",
        "colab": {
          "base_uri": "https://localhost:8080/"
        },
        "outputId": "41adb7ec-974e-4cd9-d0cc-55591fdf0f1d"
      },
      "execution_count": 10,
      "outputs": [
        {
          "output_type": "execute_result",
          "data": {
            "text/plain": [
              "RX        1401\n",
              "OTC        737\n",
              "RX/OTC      74\n",
              "\\r\\n         7\n",
              "Name: Type, dtype: int64"
            ]
          },
          "metadata": {},
          "execution_count": 10
        }
      ]
    },
    {
      "cell_type": "code",
      "source": [
        "df['Type'] = df['Type'].str.replace('\\r\\n', 'Unknown')\n",
        "\n",
        "df['Type'].value_counts()"
      ],
      "metadata": {
        "colab": {
          "base_uri": "https://localhost:8080/"
        },
        "id": "D3POYXz6cmcE",
        "outputId": "309859eb-05bc-4999-f9f0-07189beec9fc"
      },
      "execution_count": 11,
      "outputs": [
        {
          "output_type": "execute_result",
          "data": {
            "text/plain": [
              "RX         1401\n",
              "OTC         737\n",
              "RX/OTC       74\n",
              "Unknown       7\n",
              "Name: Type, dtype: int64"
            ]
          },
          "metadata": {},
          "execution_count": 11
        }
      ]
    },
    {
      "cell_type": "code",
      "source": [
        "df['Reviews'] = df['Reviews'].str.replace('Reviews', '')\n",
        "df['Reviews'] = df['Reviews'].astype('float64')"
      ],
      "metadata": {
        "id": "1RKj7umecmem"
      },
      "execution_count": 12,
      "outputs": []
    },
    {
      "cell_type": "code",
      "source": [
        "df.dtypes"
      ],
      "metadata": {
        "colab": {
          "base_uri": "https://localhost:8080/"
        },
        "id": "YPdFvqX1cqIr",
        "outputId": "d5f03380-f1b1-4589-8346-2fd37c8735a2"
      },
      "execution_count": 13,
      "outputs": [
        {
          "output_type": "execute_result",
          "data": {
            "text/plain": [
              "Condition        object\n",
              "Drug             object\n",
              "Indication       object\n",
              "Type             object\n",
              "Reviews         float64\n",
              "Effective       float64\n",
              "EaseOfUse       float64\n",
              "Satisfaction    float64\n",
              "Information      object\n",
              "dtype: object"
            ]
          },
          "metadata": {},
          "execution_count": 13
        }
      ]
    },
    {
      "cell_type": "code",
      "source": [
        "def categorize_effectiveness(effective):\n",
        "    if effective < 1.0 : return 'Very Uneffective'\n",
        "    elif effective < 2.0 : return 'Uneffective'\n",
        "    elif effective < 3.0 : return 'Partly Effective'\n",
        "    elif effective < 4.0 : return 'More Than Effective'\n",
        "    elif effective <= 5.0 : return 'Very Effective'"
      ],
      "metadata": {
        "id": "BR3aVJKYcqN7"
      },
      "execution_count": 14,
      "outputs": []
    },
    {
      "cell_type": "code",
      "source": [
        "df['Effective_Cat'] = df['Effective'].apply(categorize_effectiveness)"
      ],
      "metadata": {
        "id": "B6nnKuPxcuXz"
      },
      "execution_count": 15,
      "outputs": []
    },
    {
      "cell_type": "code",
      "source": [
        "df['Effective_Cat'].value_counts()"
      ],
      "metadata": {
        "colab": {
          "base_uri": "https://localhost:8080/"
        },
        "id": "M_Vo1tXAcvV2",
        "outputId": "415c8c43-9de2-4324-e97f-f25eec48d6fc"
      },
      "execution_count": 16,
      "outputs": [
        {
          "output_type": "execute_result",
          "data": {
            "text/plain": [
              "Very Effective         939\n",
              "More Than Effective    817\n",
              "Partly Effective       280\n",
              "Uneffective            183\n",
              "Name: Effective_Cat, dtype: int64"
            ]
          },
          "metadata": {},
          "execution_count": 16
        }
      ]
    },
    {
      "cell_type": "code",
      "source": [
        "df[['Effective_Cat', 'Type']].groupby(['Effective_Cat','Type'])['Type'].count()"
      ],
      "metadata": {
        "colab": {
          "base_uri": "https://localhost:8080/"
        },
        "id": "p2qRNGbScvfZ",
        "outputId": "89576221-e8d9-4c6e-bf4b-fedf58b0e8e4"
      },
      "execution_count": 17,
      "outputs": [
        {
          "output_type": "execute_result",
          "data": {
            "text/plain": [
              "Effective_Cat        Type   \n",
              "More Than Effective  OTC        136\n",
              "                     RX         638\n",
              "                     RX/OTC      39\n",
              "                     Unknown      4\n",
              "Partly Effective     OTC         73\n",
              "                     RX         195\n",
              "                     RX/OTC      11\n",
              "                     Unknown      1\n",
              "Uneffective          OTC         89\n",
              "                     RX          92\n",
              "                     RX/OTC       2\n",
              "Very Effective       OTC        439\n",
              "                     RX         476\n",
              "                     RX/OTC      22\n",
              "                     Unknown      2\n",
              "Name: Type, dtype: int64"
            ]
          },
          "metadata": {},
          "execution_count": 17
        }
      ]
    },
    {
      "cell_type": "code",
      "source": [
        "df[['Effective_Cat', 'Indication']].groupby(['Effective_Cat','Indication'])['Effective_Cat'].count()"
      ],
      "metadata": {
        "colab": {
          "base_uri": "https://localhost:8080/"
        },
        "id": "agg1x5GCcual",
        "outputId": "05c824a1-4365-4b28-9aab-5d07db5859ca"
      },
      "execution_count": 18,
      "outputs": [
        {
          "output_type": "execute_result",
          "data": {
            "text/plain": [
              "Effective_Cat        Indication\n",
              "More Than Effective  Off Label     167\n",
              "                     On Label      642\n",
              "                     Unknown         8\n",
              "Partly Effective     Off Label      41\n",
              "                     On Label      235\n",
              "                     Unknown         4\n",
              "Uneffective          Off Label      33\n",
              "                     On Label      149\n",
              "                     Unknown         1\n",
              "Very Effective       Off Label     224\n",
              "                     On Label      697\n",
              "                     Unknown        18\n",
              "Name: Effective_Cat, dtype: int64"
            ]
          },
          "metadata": {},
          "execution_count": 18
        }
      ]
    },
    {
      "cell_type": "code",
      "source": [
        "def categorize_ease_of_use(easeOfUse):\n",
        "    if easeOfUse < 1.0 : return 'Very Difficult'\n",
        "    elif easeOfUse < 2.0 : return 'Difficult'\n",
        "    elif easeOfUse < 3.0 : return 'Normal'\n",
        "    elif easeOfUse < 4.0 : return 'Easy'\n",
        "    elif easeOfUse <= 5.0 : return 'Very Easy'"
      ],
      "metadata": {
        "id": "MUaWvesqc1-i"
      },
      "execution_count": 19,
      "outputs": []
    },
    {
      "cell_type": "code",
      "source": [
        "df['EaseOfUse_Cat'] = df['EaseOfUse'].apply(categorize_ease_of_use)"
      ],
      "metadata": {
        "id": "7Qv_WJ-5c2iJ"
      },
      "execution_count": 20,
      "outputs": []
    },
    {
      "cell_type": "code",
      "source": [
        "df['EaseOfUse_Cat'].value_counts()"
      ],
      "metadata": {
        "colab": {
          "base_uri": "https://localhost:8080/"
        },
        "id": "aFQI96_mc2k-",
        "outputId": "2ed82f48-de2a-4493-e6d4-0d509610fe4c"
      },
      "execution_count": 21,
      "outputs": [
        {
          "output_type": "execute_result",
          "data": {
            "text/plain": [
              "Very Easy    1434\n",
              "Easy          531\n",
              "Normal        127\n",
              "Difficult     127\n",
              "Name: EaseOfUse_Cat, dtype: int64"
            ]
          },
          "metadata": {},
          "execution_count": 21
        }
      ]
    },
    {
      "cell_type": "code",
      "source": [
        "df[['EaseOfUse_Cat', 'Type']].groupby(['EaseOfUse_Cat','Type'])['Type'].count()"
      ],
      "metadata": {
        "colab": {
          "base_uri": "https://localhost:8080/"
        },
        "id": "KPcs9qRTc7qq",
        "outputId": "7420bad8-7e8d-45ba-bf6e-49ece6cbfa49"
      },
      "execution_count": 22,
      "outputs": [
        {
          "output_type": "execute_result",
          "data": {
            "text/plain": [
              "EaseOfUse_Cat  Type   \n",
              "Difficult      OTC         58\n",
              "               RX          67\n",
              "               RX/OTC       2\n",
              "Easy           OTC         81\n",
              "               RX         429\n",
              "               RX/OTC      19\n",
              "               Unknown      2\n",
              "Normal         OTC         30\n",
              "               RX          97\n",
              "Very Easy      OTC        568\n",
              "               RX         808\n",
              "               RX/OTC      53\n",
              "               Unknown      5\n",
              "Name: Type, dtype: int64"
            ]
          },
          "metadata": {},
          "execution_count": 22
        }
      ]
    },
    {
      "cell_type": "code",
      "source": [
        "def categorize_satisfaction(satisfaction):\n",
        "    if satisfaction < 1.0 : return 'Very Unsatisfied'\n",
        "    elif satisfaction < 2.0 : return 'Unsatisfied'\n",
        "    elif satisfaction < 3.0 : return 'Partly Satisfied'\n",
        "    elif satisfaction < 4.0 : return 'More Than Satisfied'\n",
        "    elif satisfaction <= 5.0 : return 'Very Satisfied'"
      ],
      "metadata": {
        "id": "Sw8q4frbc7xE"
      },
      "execution_count": 23,
      "outputs": []
    },
    {
      "cell_type": "code",
      "source": [
        "df['Satisfaction_Cat'] = df['Satisfaction'].apply(categorize_satisfaction)"
      ],
      "metadata": {
        "id": "hBTG6eUKc-8s"
      },
      "execution_count": 24,
      "outputs": []
    },
    {
      "cell_type": "code",
      "source": [
        "df['Satisfaction_Cat'].value_counts()"
      ],
      "metadata": {
        "colab": {
          "base_uri": "https://localhost:8080/"
        },
        "id": "dW3Twqqbc-_r",
        "outputId": "7bab1930-51a4-4d20-aa7e-d6c749deb46b"
      },
      "execution_count": 26,
      "outputs": [
        {
          "output_type": "execute_result",
          "data": {
            "text/plain": [
              "Very Satisfied         744\n",
              "More Than Satisfied    623\n",
              "Partly Satisfied       533\n",
              "Unsatisfied            319\n",
              "Name: Satisfaction_Cat, dtype: int64"
            ]
          },
          "metadata": {},
          "execution_count": 26
        }
      ]
    },
    {
      "cell_type": "code",
      "source": [
        "df[['Satisfaction_Cat', 'Type']].groupby(['Satisfaction_Cat','Type'])['Type'].count()"
      ],
      "metadata": {
        "colab": {
          "base_uri": "https://localhost:8080/"
        },
        "id": "1g5qiniSc_Xt",
        "outputId": "88a00629-58bb-44ed-d332-fbe5ca7323c7"
      },
      "execution_count": 27,
      "outputs": [
        {
          "output_type": "execute_result",
          "data": {
            "text/plain": [
              "Satisfaction_Cat     Type   \n",
              "More Than Satisfied  OTC        115\n",
              "                     RX         468\n",
              "                     RX/OTC      36\n",
              "                     Unknown      4\n",
              "Partly Satisfied     OTC         74\n",
              "                     RX         439\n",
              "                     RX/OTC      19\n",
              "                     Unknown      1\n",
              "Unsatisfied          OTC        124\n",
              "                     RX         193\n",
              "                     RX/OTC       2\n",
              "Very Satisfied       OTC        424\n",
              "                     RX         301\n",
              "                     RX/OTC      17\n",
              "                     Unknown      2\n",
              "Name: Type, dtype: int64"
            ]
          },
          "metadata": {},
          "execution_count": 27
        }
      ]
    },
    {
      "cell_type": "code",
      "source": [
        "sns.heatmap(df.corr(), annot=True)"
      ],
      "metadata": {
        "colab": {
          "base_uri": "https://localhost:8080/",
          "height": 507
        },
        "id": "zNs8e8pQc_ag",
        "outputId": "4b9fa104-67e0-4014-f368-594e78a10ac6"
      },
      "execution_count": 28,
      "outputs": [
        {
          "output_type": "stream",
          "name": "stderr",
          "text": [
            "<ipython-input-28-6dc1c4c1753e>:1: FutureWarning: The default value of numeric_only in DataFrame.corr is deprecated. In a future version, it will default to False. Select only valid columns or specify the value of numeric_only to silence this warning.\n",
            "  sns.heatmap(df.corr(), annot=True)\n"
          ]
        },
        {
          "output_type": "execute_result",
          "data": {
            "text/plain": [
              "<Axes: >"
            ]
          },
          "metadata": {},
          "execution_count": 28
        },
        {
          "output_type": "display_data",
          "data": {
            "text/plain": [
              "<Figure size 640x480 with 2 Axes>"
            ],
            "image/png": "[encoded data removed]"
          },
          "metadata": {}
        }
      ]
    },
    {
      "cell_type": "code",
      "source": [
        "df.drop_duplicates(keep='first', inplace=True)\n",
        "df.reset_index(drop=True)"
      ],
      "metadata": {
        "colab": {
          "base_uri": "https://localhost:8080/",
          "height": 597
        },
        "id": "GQG55aiIdOUO",
        "outputId": "2d29579b-1a51-4227-beb6-3d74a63fa344"
      },
      "execution_count": 29,
      "outputs": [
        {
          "output_type": "execute_result",
          "data": {
            "text/plain": [
              "                      Condition                         Drug Indication Type  \\\n",
              "0     Acute Bacterial Sinusitis                 Levofloxacin   On Label   RX   \n",
              "1     Acute Bacterial Sinusitis                 Moxifloxacin   On Label   RX   \n",
              "2     Acute Bacterial Sinusitis                 Azithromycin   On Label   RX   \n",
              "3     Acute Bacterial Sinusitis  Amoxicillin-Pot Clavulanate   On Label   RX   \n",
              "4     Acute Bacterial Sinusitis                 Levofloxacin   On Label   RX   \n",
              "...                         ...                          ...        ...  ...   \n",
              "1748   vulvovaginal candidiasis                 Clotrimazole   On Label  OTC   \n",
              "1749   vulvovaginal candidiasis         Butoconazole Nitrate   On Label   RX   \n",
              "1750   vulvovaginal candidiasis                 Clotrimazole   On Label  OTC   \n",
              "1751   vulvovaginal candidiasis         Butoconazole Nitrate   On Label  OTC   \n",
              "1752   vulvovaginal candidiasis      Miconazole-Skin Clnsr17   On Label  OTC   \n",
              "\n",
              "      Reviews  Effective  EaseOfUse  Satisfaction  \\\n",
              "0       994.0       2.52       3.01          1.84   \n",
              "1       755.0       2.78       3.00          2.08   \n",
              "2       584.0       3.21       4.01          2.57   \n",
              "3       437.0       3.26       3.23          2.42   \n",
              "4       361.0       2.44       2.96          1.68   \n",
              "...       ...        ...        ...           ...   \n",
              "1748      2.0       5.00       5.00          5.00   \n",
              "1749      1.0       5.00       5.00          5.00   \n",
              "1750      1.0       5.00       4.00          5.00   \n",
              "1751      1.0       5.00       5.00          5.00   \n",
              "1752      1.0       1.00       4.00          1.00   \n",
              "\n",
              "                                            Information        Effective_Cat  \\\n",
              "0     \\r\\n\\t\\t\\t\\t\\tLevofloxacin is used to treat a ...     Partly Effective   \n",
              "1     \\r\\n\\t\\t\\t\\t\\t This is a generic drug. The ave...     Partly Effective   \n",
              "2     \\r\\n\\t\\t\\t\\t\\tAzithromycin is an antibiotic (m...  More Than Effective   \n",
              "3     \\r\\n\\t\\t\\t\\t\\tAmoxicillin/clavulanic acid is a...  More Than Effective   \n",
              "4     \\r\\n\\t\\t\\t\\t\\tLevofloxacin is used to treat a ...     Partly Effective   \n",
              "...                                                 ...                  ...   \n",
              "1748  \\r\\n\\t\\t\\t\\t\\tClotrimazole is used to treat sk...       Very Effective   \n",
              "1749  \\r\\n\\t\\t\\t\\t\\tThis medication is used to treat...       Very Effective   \n",
              "1750  \\r\\n\\t\\t\\t\\t\\tClotrimazole is used to treat sk...       Very Effective   \n",
              "1751  \\r\\n\\t\\t\\t\\t\\tThis medication is used to treat...       Very Effective   \n",
              "1752  \\r\\n\\t\\t\\t\\t\\tThis medication is used to treat...          Uneffective   \n",
              "\n",
              "     EaseOfUse_Cat  Satisfaction_Cat  \n",
              "0             Easy       Unsatisfied  \n",
              "1             Easy  Partly Satisfied  \n",
              "2        Very Easy  Partly Satisfied  \n",
              "3             Easy  Partly Satisfied  \n",
              "4           Normal       Unsatisfied  \n",
              "...            ...               ...  \n",
              "1748     Very Easy    Very Satisfied  \n",
              "1749     Very Easy    Very Satisfied  \n",
              "1750     Very Easy    Very Satisfied  \n",
              "1751     Very Easy    Very Satisfied  \n",
              "1752     Very Easy       Unsatisfied  \n",
              "\n",
              "[1753 rows x 12 columns]"
            ],
            "text/html": [
              "\n",
              "  <div id=\"df-65981143-cf42-44dc-84b2-591592eab94d\" class=\"colab-df-container\">\n",
              "    <div>\n",
              "<style scoped>\n",
              "    .dataframe tbody tr th:only-of-type {\n",
              "        vertical-align: middle;\n",
              "    }\n",
              "\n",
              "    .dataframe tbody tr th {\n",
              "        vertical-align: top;\n",
              "    }\n",
              "\n",
              "    .dataframe thead th {\n",
              "        text-align: right;\n",
              "    }\n",
              "</style>\n",
              "<table border=\"1\" class=\"dataframe\">\n",
              "  <thead>\n",
              "    <tr style=\"text-align: right;\">\n",
              "      <th></th>\n",
              "      <th>Condition</th>\n",
              "      <th>Drug</th>\n",
              "      <th>Indication</th>\n",
              "      <th>Type</th>\n",
              "      <th>Reviews</th>\n",
              "      <th>Effective</th>\n",
              "      <th>EaseOfUse</th>\n",
              "      <th>Satisfaction</th>\n",
              "      <th>Information</th>\n",
              "      <th>Effective_Cat</th>\n",
              "      <th>EaseOfUse_Cat</th>\n",
              "      <th>Satisfaction_Cat</th>\n",
              "    </tr>\n",
              "  </thead>\n",
              "  <tbody>\n",
              "    <tr>\n",
              "      <th>0</th>\n",
              "      <td>Acute Bacterial Sinusitis</td>\n",
              "      <td>Levofloxacin</td>\n",
              "      <td>On Label</td>\n",
              "      <td>RX</td>\n",
              "      <td>994.0</td>\n",
              "      <td>2.52</td>\n",
              "      <td>3.01</td>\n",
              "      <td>1.84</td>\n",
              "      <td>\\r\\n\\t\\t\\t\\t\\tLevofloxacin is used to treat a ...</td>\n",
              "      <td>Partly Effective</td>\n",
              "      <td>Easy</td>\n",
              "      <td>Unsatisfied</td>\n",
              "    </tr>\n",
              "    <tr>\n",
              "      <th>1</th>\n",
              "      <td>Acute Bacterial Sinusitis</td>\n",
              "      <td>Moxifloxacin</td>\n",
              "      <td>On Label</td>\n",
              "      <td>RX</td>\n",
              "      <td>755.0</td>\n",
              "      <td>2.78</td>\n",
              "      <td>3.00</td>\n",
              "      <td>2.08</td>\n",
              "      <td>\\r\\n\\t\\t\\t\\t\\t This is a generic drug. The ave...</td>\n",
              "      <td>Partly Effective</td>\n",
              "      <td>Easy</td>\n",
              "      <td>Partly Satisfied</td>\n",
              "    </tr>\n",
              "    <tr>\n",
              "      <th>2</th>\n",
              "      <td>Acute Bacterial Sinusitis</td>\n",
              "      <td>Azithromycin</td>\n",
              "      <td>On Label</td>\n",
              "      <td>RX</td>\n",
              "      <td>584.0</td>\n",
              "      <td>3.21</td>\n",
              "      <td>4.01</td>\n",
              "      <td>2.57</td>\n",
              "      <td>\\r\\n\\t\\t\\t\\t\\tAzithromycin is an antibiotic (m...</td>\n",
              "      <td>More Than Effective</td>\n",
              "      <td>Very Easy</td>\n",
              "      <td>Partly Satisfied</td>\n",
              "    </tr>\n",
              "    <tr>\n",
              "      <th>3</th>\n",
              "      <td>Acute Bacterial Sinusitis</td>\n",
              "      <td>Amoxicillin-Pot Clavulanate</td>\n",
              "      <td>On Label</td>\n",
              "      <td>RX</td>\n",
              "      <td>437.0</td>\n",
              "      <td>3.26</td>\n",
              "      <td>3.23</td>\n",
              "      <td>2.42</td>\n",
              "      <td>\\r\\n\\t\\t\\t\\t\\tAmoxicillin/clavulanic acid is a...</td>\n",
              "      <td>More Than Effective</td>\n",
              "      <td>Easy</td>\n",
              "      <td>Partly Satisfied</td>\n",
              "    </tr>\n",
              "    <tr>\n",
              "      <th>4</th>\n",
              "      <td>Acute Bacterial Sinusitis</td>\n",
              "      <td>Levofloxacin</td>\n",
              "      <td>On Label</td>\n",
              "      <td>RX</td>\n",
              "      <td>361.0</td>\n",
              "      <td>2.44</td>\n",
              "      <td>2.96</td>\n",
              "      <td>1.68</td>\n",
              "      <td>\\r\\n\\t\\t\\t\\t\\tLevofloxacin is used to treat a ...</td>\n",
              "      <td>Partly Effective</td>\n",
              "      <td>Normal</td>\n",
              "      <td>Unsatisfied</td>\n",
              "    </tr>\n",
              "    <tr>\n",
              "      <th>...</th>\n",
              "      <td>...</td>\n",
              "      <td>...</td>\n",
              "      <td>...</td>\n",
              "      <td>...</td>\n",
              "      <td>...</td>\n",
              "      <td>...</td>\n",
              "      <td>...</td>\n",
              "      <td>...</td>\n",
              "      <td>...</td>\n",
              "      <td>...</td>\n",
              "      <td>...</td>\n",
              "      <td>...</td>\n",
              "    </tr>\n",
              "    <tr>\n",
              "      <th>1748</th>\n",
              "      <td>vulvovaginal candidiasis</td>\n",
              "      <td>Clotrimazole</td>\n",
              "      <td>On Label</td>\n",
              "      <td>OTC</td>\n",
              "      <td>2.0</td>\n",
              "      <td>5.00</td>\n",
              "      <td>5.00</td>\n",
              "      <td>5.00</td>\n",
              "      <td>\\r\\n\\t\\t\\t\\t\\tClotrimazole is used to treat sk...</td>\n",
              "      <td>Very Effective</td>\n",
              "      <td>Very Easy</td>\n",
              "      <td>Very Satisfied</td>\n",
              "    </tr>\n",
              "    <tr>\n",
              "      <th>1749</th>\n",
              "      <td>vulvovaginal candidiasis</td>\n",
              "      <td>Butoconazole Nitrate</td>\n",
              "      <td>On Label</td>\n",
              "      <td>RX</td>\n",
              "      <td>1.0</td>\n",
              "      <td>5.00</td>\n",
              "      <td>5.00</td>\n",
              "      <td>5.00</td>\n",
              "      <td>\\r\\n\\t\\t\\t\\t\\tThis medication is used to treat...</td>\n",
              "      <td>Very Effective</td>\n",
              "      <td>Very Easy</td>\n",
              "      <td>Very Satisfied</td>\n",
              "    </tr>\n",
              "    <tr>\n",
              "      <th>1750</th>\n",
              "      <td>vulvovaginal candidiasis</td>\n",
              "      <td>Clotrimazole</td>\n",
              "      <td>On Label</td>\n",
              "      <td>OTC</td>\n",
              "      <td>1.0</td>\n",
              "      <td>5.00</td>\n",
              "      <td>4.00</td>\n",
              "      <td>5.00</td>\n",
              "      <td>\\r\\n\\t\\t\\t\\t\\tClotrimazole is used to treat sk...</td>\n",
              "      <td>Very Effective</td>\n",
              "      <td>Very Easy</td>\n",
              "      <td>Very Satisfied</td>\n",
              "    </tr>\n",
              "    <tr>\n",
              "      <th>1751</th>\n",
              "      <td>vulvovaginal candidiasis</td>\n",
              "      <td>Butoconazole Nitrate</td>\n",
              "      <td>On Label</td>\n",
              "      <td>OTC</td>\n",
              "      <td>1.0</td>\n",
              "      <td>5.00</td>\n",
              "      <td>5.00</td>\n",
              "      <td>5.00</td>\n",
              "      <td>\\r\\n\\t\\t\\t\\t\\tThis medication is used to treat...</td>\n",
              "      <td>Very Effective</td>\n",
              "      <td>Very Easy</td>\n",
              "      <td>Very Satisfied</td>\n",
              "    </tr>\n",
              "    <tr>\n",
              "      <th>1752</th>\n",
              "      <td>vulvovaginal candidiasis</td>\n",
              "      <td>Miconazole-Skin Clnsr17</td>\n",
              "      <td>On Label</td>\n",
              "      <td>OTC</td>\n",
              "      <td>1.0</td>\n",
              "      <td>1.00</td>\n",
              "      <td>4.00</td>\n",
              "      <td>1.00</td>\n",
              "      <td>\\r\\n\\t\\t\\t\\t\\tThis medication is used to treat...</td>\n",
              "      <td>Uneffective</td>\n",
              "      <td>Very Easy</td>\n",
              "      <td>Unsatisfied</td>\n",
              "    </tr>\n",
              "  </tbody>\n",
              "</table>\n",
              "<p>1753 rows × 12 columns</p>\n",
              "</div>\n",
              "    <div class=\"colab-df-buttons\">\n",
              "\n",
              "  <div class=\"colab-df-container\">\n",
              "    <button class=\"colab-df-convert\" onclick=\"convertToInteractive('df-65981143-cf42-44dc-84b2-591592eab94d')\"\n",
              "            title=\"Convert this dataframe to an interactive table.\"\n",
              "            style=\"display:none;\">\n",
              "\n",
              "  <svg xmlns=\"http://www.w3.org/2000/svg\" height=\"24px\" viewBox=\"0 -960 960 960\">\n",
              "    <path d=\"M120-120v-720h720v720H120Zm60-500h600v-160H180v160Zm220 220h160v-160H400v160Zm0 220h160v-160H400v160ZM180-400h160v-160H180v160Zm440 0h160v-160H620v160ZM180-180h160v-160H180v160Zm440 0h160v-160H620v160Z\"/>\n",
              "  </svg>\n",
              "    </button>\n",
              "\n",
              "  <style>\n",
              "    .colab-df-container {\n",
              "      display:flex;\n",
              "      gap: 12px;\n",
              "    }\n",
              "\n",
              "    .colab-df-convert {\n",
              "      background-color: #E8F0FE;\n",
              "      border: none;\n",
              "      border-radius: 50%;\n",
              "      cursor: pointer;\n",
              "      display: none;\n",
              "      fill: #1967D2;\n",
              "      height: 32px;\n",
              "      padding: 0 0 0 0;\n",
              "      width: 32px;\n",
              "    }\n",
              "\n",
              "    .colab-df-convert:hover {\n",
              "      background-color: #E2EBFA;\n",
              "      box-shadow: 0px 1px 2px rgba(60, 64, 67, 0.3), 0px 1px 3px 1px rgba(60, 64, 67, 0.15);\n",
              "      fill: #174EA6;\n",
              "    }\n",
              "\n",
              "    .colab-df-buttons div {\n",
              "      margin-bottom: 4px;\n",
              "    }\n",
              "\n",
              "    [theme=dark] .colab-df-convert {\n",
              "      background-color: #3B4455;\n",
              "      fill: #D2E3FC;\n",
              "    }\n",
              "\n",
              "    [theme=dark] .colab-df-convert:hover {\n",
              "      background-color: #434B5C;\n",
              "      box-shadow: 0px 1px 3px 1px rgba(0, 0, 0, 0.15);\n",
              "      filter: drop-shadow(0px 1px 2px rgba(0, 0, 0, 0.3));\n",
              "      fill: #FFFFFF;\n",
              "    }\n",
              "  </style>\n",
              "\n",
              "    <script>\n",
              "      const buttonEl =\n",
              "        document.querySelector('#df-65981143-cf42-44dc-84b2-591592eab94d button.colab-df-convert');\n",
              "      buttonEl.style.display =\n",
              "        google.colab.kernel.accessAllowed ? 'block' : 'none';\n",
              "\n",
              "      async function convertToInteractive(key) {\n",
              "        const element = document.querySelector('#df-65981143-cf42-44dc-84b2-591592eab94d');\n",
              "        const dataTable =\n",
              "          await google.colab.kernel.invokeFunction('convertToInteractive',\n",
              "                                                    [key], {});\n",
              "        if (!dataTable) return;\n",
              "\n",
              "        const docLinkHtml = 'Like what you see? Visit the ' +\n",
              "          '<a target=\"_blank\" href=https://colab.research.google.com/notebooks/data_table.ipynb>data table notebook</a>'\n",
              "          + ' to learn more about interactive tables.';\n",
              "        element.innerHTML = '';\n",
              "        dataTable['output_type'] = 'display_data';\n",
              "        await google.colab.output.renderOutput(dataTable, element);\n",
              "        const docLink = document.createElement('div');\n",
              "        docLink.innerHTML = docLinkHtml;\n",
              "        element.appendChild(docLink);\n",
              "      }\n",
              "    </script>\n",
              "  </div>\n",
              "\n",
              "\n",
              "<div id=\"df-b0ee71c2-2762-451f-b7cf-e5099483b057\">\n",
              "  <button class=\"colab-df-quickchart\" onclick=\"quickchart('df-b0ee71c2-2762-451f-b7cf-e5099483b057')\"\n",
              "            title=\"Suggest charts\"\n",
              "            style=\"display:none;\">\n",
              "\n",
              "<svg xmlns=\"http://www.w3.org/2000/svg\" height=\"24px\"viewBox=\"0 0 24 24\"\n",
              "     width=\"24px\">\n",
              "    <g>\n",
              "        <path d=\"M19 3H5c-1.1 0-2 .9-2 2v14c0 1.1.9 2 2 2h14c1.1 0 2-.9 2-2V5c0-1.1-.9-2-2-2zM9 17H7v-7h2v7zm4 0h-2V7h2v10zm4 0h-2v-4h2v4z\"/>\n",
              "    </g>\n",
              "</svg>\n",
              "  </button>\n",
              "\n",
              "<style>\n",
              "  .colab-df-quickchart {\n",
              "      --bg-color: #E8F0FE;\n",
              "      --fill-color: #1967D2;\n",
              "      --hover-bg-color: #E2EBFA;\n",
              "      --hover-fill-color: #174EA6;\n",
              "      --disabled-fill-color: #AAA;\n",
              "      --disabled-bg-color: #DDD;\n",
              "  }\n",
              "\n",
              "  [theme=dark] .colab-df-quickchart {\n",
              "      --bg-color: #3B4455;\n",
              "      --fill-color: #D2E3FC;\n",
              "      --hover-bg-color: #434B5C;\n",
              "      --hover-fill-color: #FFFFFF;\n",
              "      --disabled-bg-color: #3B4455;\n",
              "      --disabled-fill-color: #666;\n",
              "  }\n",
              "\n",
              "  .colab-df-quickchart {\n",
              "    background-color: var(--bg-color);\n",
              "    border: none;\n",
              "    border-radius: 50%;\n",
              "    cursor: pointer;\n",
              "    display: none;\n",
              "    fill: var(--fill-color);\n",
              "    height: 32px;\n",
              "    padding: 0;\n",
              "    width: 32px;\n",
              "  }\n",
              "\n",
              "  .colab-df-quickchart:hover {\n",
              "    background-color: var(--hover-bg-color);\n",
              "    box-shadow: 0 1px 2px rgba(60, 64, 67, 0.3), 0 1px 3px 1px rgba(60, 64, 67, 0.15);\n",
              "    fill: var(--button-hover-fill-color);\n",
              "  }\n",
              "\n",
              "  .colab-df-quickchart-complete:disabled,\n",
              "  .colab-df-quickchart-complete:disabled:hover {\n",
              "    background-color: var(--disabled-bg-color);\n",
              "    fill: var(--disabled-fill-color);\n",
              "    box-shadow: none;\n",
              "  }\n",
              "\n",
              "  .colab-df-spinner {\n",
              "    border: 2px solid var(--fill-color);\n",
              "    border-color: transparent;\n",
              "    border-bottom-color: var(--fill-color);\n",
              "    animation:\n",
              "      spin 1s steps(1) infinite;\n",
              "  }\n",
              "\n",
              "  @keyframes spin {\n",
              "    0% {\n",
              "      border-color: transparent;\n",
              "      border-bottom-color: var(--fill-color);\n",
              "      border-left-color: var(--fill-color);\n",
              "    }\n",
              "    20% {\n",
              "      border-color: transparent;\n",
              "      border-left-color: var(--fill-color);\n",
              "      border-top-color: var(--fill-color);\n",
              "    }\n",
              "    30% {\n",
              "      border-color: transparent;\n",
              "      border-left-color: var(--fill-color);\n",
              "      border-top-color: var(--fill-color);\n",
              "      border-right-color: var(--fill-color);\n",
              "    }\n",
              "    40% {\n",
              "      border-color: transparent;\n",
              "      border-right-color: var(--fill-color);\n",
              "      border-top-color: var(--fill-color);\n",
              "    }\n",
              "    60% {\n",
              "      border-color: transparent;\n",
              "      border-right-color: var(--fill-color);\n",
              "    }\n",
              "    80% {\n",
              "      border-color: transparent;\n",
              "      border-right-color: var(--fill-color);\n",
              "      border-bottom-color: var(--fill-color);\n",
              "    }\n",
              "    90% {\n",
              "      border-color: transparent;\n",
              "      border-bottom-color: var(--fill-color);\n",
              "    }\n",
              "  }\n",
              "</style>\n",
              "\n",
              "  <script>\n",
              "    async function quickchart(key) {\n",
              "      const quickchartButtonEl =\n",
              "        document.querySelector('#' + key + ' button');\n",
              "      quickchartButtonEl.disabled = true;  // To prevent multiple clicks.\n",
              "      quickchartButtonEl.classList.add('colab-df-spinner');\n",
              "      try {\n",
              "        const charts = await google.colab.kernel.invokeFunction(\n",
              "            'suggestCharts', [key], {});\n",
              "      } catch (error) {\n",
              "        console.error('Error during call to suggestCharts:', error);\n",
              "      }\n",
              "      quickchartButtonEl.classList.remove('colab-df-spinner');\n",
              "      quickchartButtonEl.classList.add('colab-df-quickchart-complete');\n",
              "    }\n",
              "    (() => {\n",
              "      let quickchartButtonEl =\n",
              "        document.querySelector('#df-b0ee71c2-2762-451f-b7cf-e5099483b057 button');\n",
              "      quickchartButtonEl.style.display =\n",
              "        google.colab.kernel.accessAllowed ? 'block' : 'none';\n",
              "    })();\n",
              "  </script>\n",
              "</div>\n",
              "\n",
              "    </div>\n",
              "  </div>\n"
            ]
          },
          "metadata": {},
          "execution_count": 29
        }
      ]
    },
    {
      "cell_type": "code",
      "source": [
        "popular_drugs = df.sort_values(by='Reviews', ascending=False).head(10)"
      ],
      "metadata": {
        "id": "JGM1Vq72dOWt"
      },
      "execution_count": 30,
      "outputs": []
    },
    {
      "cell_type": "code",
      "source": [
        "sns.barplot(data=popular_drugs, y='Drug', x='Effective')"
      ],
      "metadata": {
        "colab": {
          "base_uri": "https://localhost:8080/",
          "height": 466
        },
        "id": "7zVFjTd6dOZQ",
        "outputId": "52194208-dbf5-4d0e-e6b6-cebc7a96a097"
      },
      "execution_count": 31,
      "outputs": [
        {
          "output_type": "execute_result",
          "data": {
            "text/plain": [
              "<Axes: xlabel='Effective', ylabel='Drug'>"
            ]
          },
          "metadata": {},
          "execution_count": 31
        },
        {
          "output_type": "display_data",
          "data": {
            "text/plain": [
              "<Figure size 640x480 with 1 Axes>"
            ],
            "image/png": "[encoded data removed]"
          },
          "metadata": {}
        }
      ]
    },
    {
      "cell_type": "code",
      "source": [
        "sns.barplot(data=popular_drugs, y='Drug', x='EaseOfUse', hue='Type')"
      ],
      "metadata": {
        "colab": {
          "base_uri": "https://localhost:8080/",
          "height": 466
        },
        "id": "dnpjaDEUdS_3",
        "outputId": "89fc48c7-4f7e-4ec0-d402-31dfc9bfec76"
      },
      "execution_count": 32,
      "outputs": [
        {
          "output_type": "execute_result",
          "data": {
            "text/plain": [
              "<Axes: xlabel='EaseOfUse', ylabel='Drug'>"
            ]
          },
          "metadata": {},
          "execution_count": 32
        },
        {
          "output_type": "display_data",
          "data": {
            "text/plain": [
              "<Figure size 640x480 with 1 Axes>"
            ],
            "image/png": "[encoded data removed]"
          },
          "metadata": {}
        }
      ]
    },
    {
      "cell_type": "code",
      "source": [
        "sns.barplot(data=popular_drugs, y='Drug', x='EaseOfUse', hue='Indication')"
      ],
      "metadata": {
        "colab": {
          "base_uri": "https://localhost:8080/",
          "height": 466
        },
        "id": "JHEwzcIudTCd",
        "outputId": "fe4d4350-a4d6-4bbb-e210-dc4bfd4a410a"
      },
      "execution_count": 33,
      "outputs": [
        {
          "output_type": "execute_result",
          "data": {
            "text/plain": [
              "<Axes: xlabel='EaseOfUse', ylabel='Drug'>"
            ]
          },
          "metadata": {},
          "execution_count": 33
        },
        {
          "output_type": "display_data",
          "data": {
            "text/plain": [
              "<Figure size 640x480 with 1 Axes>"
            ],
            "image/png": "[encoded data removed]"
          },
          "metadata": {}
        }
      ]
    },
    {
      "cell_type": "code",
      "source": [],
      "metadata": {
        "id": "t1KJDf62dTIs"
      },
      "execution_count": null,
      "outputs": []
    }
  ]
}